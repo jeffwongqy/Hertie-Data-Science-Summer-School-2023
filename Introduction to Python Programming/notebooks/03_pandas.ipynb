{
  "cells": [
    {
      "cell_type": "markdown",
      "metadata": {
        "editable": true,
        "tags": [],
        "id": "HvoP0WWsVQ_e"
      },
      "source": [
        "# Preface"
      ]
    },
    {
      "cell_type": "markdown",
      "metadata": {
        "editable": true,
        "tags": [],
        "id": "ZAsg2FT9VQ_h"
      },
      "source": [
        "## 🐼 ?\n",
        "\n",
        "- Popular library for analyzing _tabular data_.\n",
        "\t- Tabular: rectangular, has rows and columns.\n",
        "- _Expressive_ and _full-featured_.\n",
        "\t- Readable syntax\n",
        "\t- Lots of convenience functions\n",
        "\n",
        "🐼: _panel data, apparently._ ^[https://www.dlr.de/sc/Portaldata/15/Resources/dokumente/pyhpc2011/submissions/pyhpc2011_submission_9.pdf]"
      ]
    },
    {
      "cell_type": "markdown",
      "metadata": {
        "editable": true,
        "tags": [],
        "id": "t_r-EuYRVQ_i"
      },
      "source": [
        "## Pros and Cons\n",
        "\n",
        ":::: {.columns}\n",
        "\n",
        "::: {.column}\n",
        "**Reasons to use**\n",
        "\n",
        "- Support for **many** file types\n",
        "- Integrated into data analysis ecosystem\n",
        "- Balance of verbosity and function\n",
        "- Complex time-series and hierarchically indexed data functionality\n",
        ":::\n",
        "\n",
        "::: {.column}\n",
        "**Reasons not to use**\n",
        "\n",
        "- Struggles with larger datasets (>1M rows)\n",
        "- Significant overhead\n",
        "- Memory-intensive\n",
        "- CPU-only\n",
        "\n",
        ":::\n",
        "\n",
        "::::"
      ]
    },
    {
      "cell_type": "markdown",
      "metadata": {
        "editable": true,
        "tags": [],
        "id": "OLFiF5shVQ_i"
      },
      "source": [
        "## Running Scenario\n",
        "\n",
        "- Analyzing student scores and sending summary reports\n",
        "- Two datasets:\n",
        "\t- `data/scores.csv`: students' scores in 5 subjects\n",
        "\t- `data/contacts.csv`: students' contact details"
      ]
    },
    {
      "cell_type": "markdown",
      "metadata": {
        "editable": true,
        "tags": [],
        "id": "FM-G9169VQ_j"
      },
      "source": [
        "## Functionality Covered\n",
        "\n",
        "- How do I read in data from files?\n",
        "- How do I select and filter values?\n",
        "- How do I perform calculations on data?\n",
        "- How do I merge/combine data from multiple sources?"
      ]
    },
    {
      "cell_type": "markdown",
      "metadata": {
        "editable": true,
        "tags": [],
        "id": "iCsTPesXVQ_j"
      },
      "source": [
        "# Importing Libraries\n",
        "\n",
        "_A brief aside on a first step that tends to get overlooked._"
      ]
    },
    {
      "cell_type": "markdown",
      "metadata": {
        "editable": true,
        "tags": [],
        "id": "8jppRYTtVQ_j"
      },
      "source": [
        "## Libraries\n",
        "\n",
        "- Functionality of base Python is limited for data analysis workflow\n",
        "- Python language is extensible, benefits from enormous ecosystem\n",
        "- `pandas` is a _library_ for data analysis"
      ]
    },
    {
      "cell_type": "markdown",
      "metadata": {
        "editable": true,
        "tags": [],
        "id": "jGcmXXjsVQ_k"
      },
      "source": [
        "## `import`\n",
        "\n",
        "- To use a library, we need to `import` it:"
      ]
    },
    {
      "cell_type": "code",
      "execution_count": null,
      "metadata": {
        "editable": true,
        "output-location": "column",
        "tags": [],
        "id": "ZlKR7_leVQ_k"
      },
      "outputs": [],
      "source": [
        "import pandas"
      ]
    },
    {
      "cell_type": "markdown",
      "metadata": {
        "editable": true,
        "tags": [],
        "id": "4Pwzc36DVQ_l"
      },
      "source": [
        "- In Jupyter, we can use `%who` to list objects in the global namespace\n",
        "\n"
      ]
    },
    {
      "cell_type": "code",
      "execution_count": null,
      "metadata": {
        "editable": true,
        "output-location": "column",
        "tags": [],
        "id": "9HjjuauwVQ_l"
      },
      "outputs": [],
      "source": [
        "%who"
      ]
    },
    {
      "cell_type": "markdown",
      "metadata": {
        "editable": true,
        "tags": [],
        "id": "cbdDIDyxVQ_m"
      },
      "source": [
        "- The methods within pandas are now accessible as _methods_ of the imported _module_.\n"
      ]
    },
    {
      "cell_type": "code",
      "execution_count": null,
      "metadata": {
        "editable": true,
        "output-location": "column",
        "tags": [],
        "id": "CalmtRNBVQ_m"
      },
      "outputs": [],
      "source": [
        "pandas.__version__"
      ]
    },
    {
      "cell_type": "markdown",
      "metadata": {
        "editable": true,
        "tags": [],
        "id": "S6KFUDuFVQ_m"
      },
      "source": [
        "## `from`\n",
        "\n",
        "- We can use the `from` command to import objects and methods directly from modules into the global namespace.\n"
      ]
    },
    {
      "cell_type": "code",
      "execution_count": null,
      "metadata": {
        "editable": true,
        "output-location": "column",
        "tags": [],
        "id": "tFH3Atz6VQ_m"
      },
      "outputs": [],
      "source": [
        "from pandas import __version__\n",
        "print(__version__)"
      ]
    },
    {
      "cell_type": "markdown",
      "metadata": {
        "editable": true,
        "tags": [],
        "id": "GaoqDNDOVQ_m"
      },
      "source": [
        "## `as`\n",
        "\n",
        "- The default approach in Python is to keep fewer objects in the global namespace.\n",
        "- This means always prefacing the function or class we want to use with the prefix name.\n",
        "- This can get verbose, so we often abbreviate library names with `as`:\n"
      ]
    },
    {
      "cell_type": "code",
      "execution_count": null,
      "metadata": {
        "editable": true,
        "output-location": "column",
        "tags": [],
        "id": "ZOwNDWtHVQ_m"
      },
      "outputs": [],
      "source": [
        "import pandas as pd\n",
        "print(pd)\n",
        "print(pd.DataFrame)"
      ]
    },
    {
      "cell_type": "markdown",
      "metadata": {
        "editable": true,
        "tags": [],
        "id": "mO_8l0fMVQ_m"
      },
      "source": [
        "## Contrast with `R`\n",
        "\n",
        "- In `R`, the default approach is to import all methods from a library into the global namespace.\n",
        "- If we did this with `pandas` it would look like this:\n"
      ]
    },
    {
      "cell_type": "code",
      "execution_count": null,
      "metadata": {
        "editable": true,
        "tags": [],
        "id": "YgET0V6sVQ_n"
      },
      "outputs": [],
      "source": [
        "from pandas import *\n",
        "%who"
      ]
    },
    {
      "cell_type": "markdown",
      "metadata": {
        "editable": true,
        "tags": [],
        "id": "5ncji1igVQ_n"
      },
      "source": [
        "## Cleanup\n"
      ]
    },
    {
      "cell_type": "code",
      "execution_count": null,
      "metadata": {
        "editable": true,
        "tags": [],
        "id": "RVkj7C32VQ_n"
      },
      "outputs": [],
      "source": [
        "%reset -f"
      ]
    },
    {
      "cell_type": "code",
      "execution_count": null,
      "metadata": {
        "editable": true,
        "tags": [],
        "id": "9P_Z3oh_VQ_n"
      },
      "outputs": [],
      "source": [
        "import pandas as pd # normal way of importing"
      ]
    },
    {
      "cell_type": "code",
      "execution_count": null,
      "metadata": {
        "editable": true,
        "tags": [],
        "id": "Dh1866F-VQ_n"
      },
      "outputs": [],
      "source": [
        "# For colab: we need to replace paths to files with urls to the location on github\n",
        "data_url = \"https://raw.githubusercontent.com/mmjh-dev/ds3-intro-python/main/\""
      ]
    },
    {
      "cell_type": "markdown",
      "metadata": {
        "editable": true,
        "tags": [],
        "id": "KZ4lUsyUVQ_n"
      },
      "source": [
        "# Getting Your Data"
      ]
    },
    {
      "cell_type": "markdown",
      "metadata": {
        "editable": true,
        "tags": [],
        "id": "XBzptIGMVQ_n"
      },
      "source": [
        "## Manual `DataFrame`\n",
        "\n",
        "- Can be constructed manually from a `dict` of equal-length `list`s."
      ]
    },
    {
      "cell_type": "code",
      "execution_count": null,
      "metadata": {
        "editable": true,
        "output-location": "default",
        "tags": [],
        "id": "GkQU62kRVQ_n"
      },
      "outputs": [],
      "source": [
        "scores_dict = {\n",
        "\t'student_id': ['5a01', '5a12', '5b05', '5b10', '5e04'],\n",
        "\t'math':    [95, 78, 85, 90, 88],\n",
        "\t'english': [97, 91, 86, 89, 90],\n",
        "\t'history': [80, 89, 94, 87, 85],\n",
        "\t'biology': [81, 86, 88, 99, 88],\n",
        "\t'art':     [86, 81, 82, 91, 84]\n",
        "}"
      ]
    },
    {
      "cell_type": "markdown",
      "metadata": {
        "editable": true,
        "tags": [],
        "id": "RRecZaaUVQ_n"
      },
      "source": [
        "## Manual `DataFrame`"
      ]
    },
    {
      "cell_type": "code",
      "execution_count": null,
      "metadata": {
        "editable": true,
        "tags": [],
        "id": "GuGaX4V0VQ_o"
      },
      "outputs": [],
      "source": [
        "df = pd.DataFrame(data=scores_dict)\n",
        "df"
      ]
    },
    {
      "cell_type": "markdown",
      "metadata": {
        "editable": true,
        "tags": [],
        "id": "OyLlGHj4VQ_o"
      },
      "source": [
        "## Reading from a file\n",
        "\n",
        "`pandas` comes with functions for reading and writing to all kinds of data formats. A quick list can be viewed using tab completion:\n",
        "\n",
        "In the cell below, type `pd.read_` and then press the \\<TAB\\> key"
      ]
    },
    {
      "cell_type": "markdown",
      "metadata": {
        "editable": true,
        "tags": [],
        "id": "VFL4ZYhEVQ_o"
      },
      "source": [
        "## Data IO: `read_csv`"
      ]
    },
    {
      "cell_type": "code",
      "execution_count": null,
      "metadata": {
        "editable": true,
        "output-location": "default",
        "tags": [],
        "id": "5uQbMWhMVQ_o"
      },
      "outputs": [],
      "source": [
        "df = pd.read_csv(data_url+\"data/scores.csv\")\n",
        "df"
      ]
    },
    {
      "cell_type": "markdown",
      "metadata": {
        "editable": true,
        "tags": [],
        "id": "ZK3m-vXaVQ_o"
      },
      "source": [
        "# Selecting Data\n",
        "\n",
        "- \"What were everyone's `math` scores?\"\n",
        "- \"What did student `5a12` get on all subjects?\"\n",
        "- \"What did `5a12` and `5e04` get on `history` and `art`?\""
      ]
    },
    {
      "cell_type": "markdown",
      "metadata": {
        "editable": true,
        "tags": [],
        "id": "cLnOb2ArVQ_o"
      },
      "source": [
        "## Columns and Index\n",
        "\n",
        "- Entries indexed by columns and rows"
      ]
    },
    {
      "cell_type": "code",
      "execution_count": null,
      "metadata": {
        "editable": true,
        "tags": [],
        "id": "p_OxsvWhVQ_o"
      },
      "outputs": [],
      "source": [
        "df"
      ]
    },
    {
      "cell_type": "markdown",
      "metadata": {
        "editable": true,
        "tags": [],
        "id": "HQKGHsvjVQ_o"
      },
      "source": [
        "## `df.columns` and `df.index`\n",
        "\n",
        "- These can be accessed through following:\n"
      ]
    },
    {
      "cell_type": "code",
      "execution_count": null,
      "metadata": {
        "editable": true,
        "output-location": "column-fragment",
        "tags": [],
        "id": "u1RCE5QcVQ_o"
      },
      "outputs": [],
      "source": [
        "df.columns"
      ]
    },
    {
      "cell_type": "code",
      "execution_count": null,
      "metadata": {
        "editable": true,
        "output-location": "column-fragment",
        "tags": [],
        "id": "E2Z1o3miVQ_o"
      },
      "outputs": [],
      "source": [
        "df.index"
      ]
    },
    {
      "cell_type": "markdown",
      "metadata": {
        "editable": true,
        "tags": [],
        "id": "RP8xB3sKVQ_p"
      },
      "source": [
        "- By default dataframes have a numerical index."
      ]
    },
    {
      "cell_type": "markdown",
      "metadata": {
        "editable": true,
        "tags": [],
        "id": "Xsupg-AgVQ_p"
      },
      "source": [
        "## Setting the Index\n",
        "\n",
        "- `df.set_index()` returns dataframe with new index"
      ]
    },
    {
      "cell_type": "code",
      "execution_count": null,
      "metadata": {
        "editable": true,
        "output-location": "column-fragment",
        "tags": [],
        "id": "tkdyPzEnVQ_s"
      },
      "outputs": [],
      "source": [
        "df = df.set_index('student_id')\n",
        "df.index"
      ]
    },
    {
      "cell_type": "code",
      "execution_count": null,
      "metadata": {
        "editable": true,
        "output-location": "column-fragment",
        "tags": [],
        "id": "AFPlywhvVQ_s"
      },
      "outputs": [],
      "source": [
        "df"
      ]
    },
    {
      "cell_type": "markdown",
      "metadata": {
        "editable": true,
        "tags": [],
        "id": "BwwD_hsTVQ_s"
      },
      "source": [
        "## `.loc`\n",
        "\n",
        "- Use `.loc` for name-based indexing.\n",
        "- General syntax: `.loc[<INDEX>, <COLS>]`\n",
        "\t- `<INDEX>` and `<COLS>` correspond to the index and column names.\n",
        "\t- They can be a single value, a list, or `:` to indicate \"all\".\n",
        "- Let's learn by example:"
      ]
    },
    {
      "cell_type": "markdown",
      "metadata": {
        "editable": true,
        "tags": [],
        "id": "AGsewylKVQ_t"
      },
      "source": [
        "## Row\n",
        "\n",
        "- \"What did `5a01` get on all (`:`) exams?\""
      ]
    },
    {
      "cell_type": "code",
      "execution_count": null,
      "metadata": {
        "editable": true,
        "output-location": "default",
        "tags": [],
        "id": "muKs-L_RVQ_t"
      },
      "outputs": [],
      "source": [
        "df.loc['5a01', :]"
      ]
    },
    {
      "cell_type": "code",
      "execution_count": null,
      "metadata": {
        "editable": true,
        "output-location": "default",
        "tags": [],
        "id": "abO7UqMeVQ_t"
      },
      "outputs": [],
      "source": [
        "from IPython.display import HTML\n",
        "HTML(data_url+\"figures/pandas_loc_row.html\")"
      ]
    },
    {
      "cell_type": "markdown",
      "metadata": {
        "editable": true,
        "tags": [],
        "id": "t4bmKnnkVQ_t"
      },
      "source": [
        "## Column\n",
        "\n",
        "- \"What did everyone (`:`) get on `history`?\""
      ]
    },
    {
      "cell_type": "code",
      "execution_count": null,
      "metadata": {
        "editable": true,
        "output-location": "default",
        "tags": [],
        "id": "nmq8e-U8VQ_t"
      },
      "outputs": [],
      "source": [
        "df.loc[:, 'history']"
      ]
    },
    {
      "cell_type": "code",
      "execution_count": null,
      "metadata": {
        "editable": true,
        "output-location": "default",
        "tags": [],
        "id": "MxFsfQW2VQ_t"
      },
      "outputs": [],
      "source": [
        "HTML(data_url+\"figures/pandas_loc_col.html\")"
      ]
    },
    {
      "cell_type": "markdown",
      "metadata": {
        "editable": true,
        "tags": [],
        "id": "RzzuA8nfVQ_t"
      },
      "source": [
        "## Multiple Rows\n",
        "\n",
        "- \"What did `5a01` and `5a12` (`['5a01', '5a12']`) get on all (`:`) exams?\"\n",
        "\n"
      ]
    },
    {
      "cell_type": "code",
      "execution_count": null,
      "metadata": {
        "editable": true,
        "output-location": "default",
        "tags": [],
        "id": "srcabrdnVQ_t"
      },
      "outputs": [],
      "source": [
        "df.loc[['5a01', '5a12'], :]"
      ]
    },
    {
      "cell_type": "code",
      "execution_count": null,
      "metadata": {
        "editable": true,
        "output-location": "default",
        "tags": [],
        "id": "vXVKCGz3VQ_t"
      },
      "outputs": [],
      "source": [
        "HTML(data_url+\"figures/pandas_loc_multi_row.html\")"
      ]
    },
    {
      "cell_type": "markdown",
      "metadata": {
        "editable": true,
        "tags": [],
        "id": "_8IF01HcVQ_u"
      },
      "source": [
        "## Multiple Columns\n",
        "\n",
        "- What did everyone (`:`) get on `art` and `history` (`['art', 'history']`)?\n",
        "\n"
      ]
    },
    {
      "cell_type": "code",
      "execution_count": null,
      "metadata": {
        "editable": true,
        "output-location": "default",
        "tags": [],
        "id": "HAv261MPVQ_u"
      },
      "outputs": [],
      "source": [
        "df.loc[:, ['art', 'history']]"
      ]
    },
    {
      "cell_type": "code",
      "execution_count": null,
      "metadata": {
        "editable": true,
        "output-location": "default",
        "tags": [],
        "id": "EVVE1j_FVQ_u"
      },
      "outputs": [],
      "source": [
        "HTML(data_url+\"figures/pandas_loc_multi_col.html\")"
      ]
    },
    {
      "cell_type": "markdown",
      "metadata": {
        "editable": true,
        "tags": [],
        "id": "D6b7s9cOVQ_u"
      },
      "source": [
        "## Label Order\n",
        "\n",
        "Note the order of labels changes the order of columns:\n",
        "\n"
      ]
    },
    {
      "cell_type": "code",
      "execution_count": null,
      "metadata": {
        "editable": true,
        "tags": [],
        "id": "KpOQxBc8VQ_u"
      },
      "outputs": [],
      "source": [
        "df.loc[:, ['art', 'history']]"
      ]
    },
    {
      "cell_type": "markdown",
      "metadata": {
        "editable": true,
        "tags": [],
        "id": "hl2BCW7wVQ_u"
      },
      "source": [
        "## Cell\n",
        "\n",
        "- What did `5a01` get in `history`?\n",
        "\n"
      ]
    },
    {
      "cell_type": "code",
      "execution_count": null,
      "metadata": {
        "editable": true,
        "output-location": "default",
        "tags": [],
        "id": "ToXYcpYNVQ_u"
      },
      "outputs": [],
      "source": [
        "df.loc['5a01', 'history']"
      ]
    },
    {
      "cell_type": "code",
      "execution_count": null,
      "metadata": {
        "editable": true,
        "output-location": "default",
        "tags": [],
        "id": "PQ3rcvNsVQ_u"
      },
      "outputs": [],
      "source": [
        "HTML(data_url+\"figures/pandas_loc_cell.html\")"
      ]
    },
    {
      "cell_type": "markdown",
      "metadata": {
        "editable": true,
        "tags": [],
        "id": "yGaFdBnXVQ_u"
      },
      "source": [
        "## Multiple Values\n",
        "\n",
        "- What did `5a01` get in `history` and `art`?\n",
        "\n"
      ]
    },
    {
      "cell_type": "code",
      "execution_count": null,
      "metadata": {
        "editable": true,
        "output-location": "default",
        "tags": [],
        "id": "P9oEza8_VQ_v"
      },
      "outputs": [],
      "source": [
        "df.loc['5a12', ['history', 'art']]"
      ]
    },
    {
      "cell_type": "code",
      "execution_count": null,
      "metadata": {
        "editable": true,
        "output-location": "default",
        "tags": [],
        "id": "C08n8eZ4VQ_v"
      },
      "outputs": [],
      "source": [
        "HTML(data_url+\"figures/pandas_loc_multi1.html\")"
      ]
    },
    {
      "cell_type": "markdown",
      "metadata": {
        "editable": true,
        "tags": [],
        "id": "_K6CsZRZVQ_v"
      },
      "source": [
        "## cont.\n",
        "\n",
        "- What did `5a01`, `5a12`, and `5b05` get in `biology` and `art`?\n",
        "\n"
      ]
    },
    {
      "cell_type": "code",
      "execution_count": null,
      "metadata": {
        "editable": true,
        "output-location": "default",
        "tags": [],
        "id": "mR9ylf7DVQ_v"
      },
      "outputs": [],
      "source": [
        "df.loc[['5a01', '5a12', '5b05'], ['biology', 'art']]"
      ]
    },
    {
      "cell_type": "code",
      "execution_count": null,
      "metadata": {
        "editable": true,
        "output-location": "default",
        "tags": [],
        "id": "5SeduplUVQ_v"
      },
      "outputs": [],
      "source": [
        "HTML(data_url+\"figures/pandas_loc_multi2.html\")"
      ]
    },
    {
      "cell_type": "markdown",
      "metadata": {
        "editable": true,
        "tags": [],
        "id": "_TWU6lSyVQ_v"
      },
      "source": [
        "## Filtering\n",
        "\n",
        "\"The overall scores of students who got _90 or higher in math_\"\"\n",
        "\n",
        "- Create a _boolean array_\n",
        "\n"
      ]
    },
    {
      "cell_type": "code",
      "execution_count": null,
      "metadata": {
        "editable": true,
        "output-location": "column-fragment",
        "tags": [],
        "id": "bSHzN4ceVQ_v"
      },
      "outputs": [],
      "source": [
        "df.loc[:, 'math'] >= 90"
      ]
    },
    {
      "cell_type": "markdown",
      "metadata": {
        "editable": true,
        "tags": [],
        "id": "vrdZpk5JVQ_v"
      },
      "source": [
        "## `.loc` Filtering\n",
        "\n",
        "- `.loc` can take boolean arrays:\n",
        "\n"
      ]
    },
    {
      "cell_type": "code",
      "execution_count": null,
      "metadata": {
        "editable": true,
        "tags": [],
        "id": "Eu3Jc44rVQ_w"
      },
      "outputs": [],
      "source": [
        "good_math = df.loc[:, 'math'] >= 90\n",
        "df.loc[good_math, :]"
      ]
    },
    {
      "cell_type": "markdown",
      "metadata": {
        "editable": true,
        "tags": [],
        "id": "8mecxpgMVQ_w"
      },
      "source": [
        "- Shorter syntax:\n"
      ]
    },
    {
      "cell_type": "code",
      "execution_count": null,
      "metadata": {
        "editable": true,
        "tags": [],
        "id": "09b0-YqxVQ_w"
      },
      "outputs": [],
      "source": [
        "df.loc[df['math'].ge(90), :]"
      ]
    },
    {
      "cell_type": "markdown",
      "metadata": {
        "editable": true,
        "tags": [],
        "id": "YHB4jns3VQ_w"
      },
      "source": [
        "## Combining Indexers and Filters\n",
        "\n",
        "- `history` scores where `math` and `art` $>=$ 85\n"
      ]
    },
    {
      "cell_type": "code",
      "execution_count": null,
      "metadata": {
        "editable": true,
        "tags": [],
        "id": "3h3oyJt8VQ_w"
      },
      "outputs": [],
      "source": [
        "df.loc[(df.loc[:, 'math']>=85) &\n",
        "\t   (df.loc[:, 'art']>=85),\n",
        "\t   'history']"
      ]
    },
    {
      "cell_type": "markdown",
      "metadata": {
        "editable": true,
        "tags": [],
        "id": "akEUjdbNVQ_w"
      },
      "source": [
        "## `.iloc`: locational indexing\n",
        "\n",
        "- First 2 rows (`:2` in Python)\n",
        "- Last 3 columns (`-3:`)\n"
      ]
    },
    {
      "cell_type": "code",
      "execution_count": null,
      "metadata": {
        "editable": true,
        "tags": [],
        "id": "sInSwBfzVQ_w"
      },
      "outputs": [],
      "source": [
        "df.iloc[:2, -3:]"
      ]
    },
    {
      "cell_type": "markdown",
      "metadata": {
        "editable": true,
        "tags": [],
        "id": "a4Cz8xGiVQ_w"
      },
      "source": [
        "# Operations\n",
        "\n",
        "- \"Is this score over 90?\"\n",
        "- \"What was the average `math` score?\"\n",
        "- \"What was `5b10`'s maximum score?\"\"\n",
        "- \"What was the lowest score in each exam?\""
      ]
    },
    {
      "cell_type": "markdown",
      "metadata": {
        "editable": true,
        "tags": [],
        "id": "A9YwyOS2VQ_w"
      },
      "source": [
        "## Some Terminology\n",
        "\n",
        "Clarifying what I mean in this lecture when I say:\n",
        "\n",
        "- _Scalar_: a single value\n",
        "- _Non-scalar_: a data structure capable of containing multiple data points\n",
        "- _Argument(s)_: the input(s) to a function"
      ]
    },
    {
      "cell_type": "markdown",
      "metadata": {
        "editable": true,
        "tags": [],
        "id": "rocUnyZWVQ_w"
      },
      "source": [
        "## `Series` and `DataFrame`\n",
        "\n",
        "- `pd.Series` are 1-dimensional\n",
        "- `pd.DataFrame` are 2-dimensional"
      ]
    },
    {
      "cell_type": "markdown",
      "metadata": {
        "editable": true,
        "tags": [],
        "id": "gZGLpg7xVQ_x"
      },
      "source": [
        "## `Series`\n",
        "\n",
        "- Passing a scalar to an indexer (`.loc`) on a `DataFrame` returns a `Series`"
      ]
    },
    {
      "cell_type": "code",
      "execution_count": null,
      "metadata": {
        "editable": true,
        "tags": [],
        "id": "QHmbwFYtVQ_x"
      },
      "outputs": [],
      "source": [
        "df.loc[:, 'biology']"
      ]
    },
    {
      "cell_type": "markdown",
      "metadata": {
        "editable": true,
        "tags": [],
        "id": "2Zxks_HMVQ_x"
      },
      "source": [
        "## `DataFrame`\n",
        "\n",
        "- Passing a `list` returns a `DataFrame`\n"
      ]
    },
    {
      "cell_type": "code",
      "execution_count": null,
      "metadata": {
        "editable": true,
        "tags": [],
        "id": "YYBbNyofVQ_x"
      },
      "outputs": [],
      "source": [
        "df.loc[:, ['biology']]"
      ]
    },
    {
      "cell_type": "markdown",
      "metadata": {
        "editable": true,
        "tags": [],
        "id": "2blHxjxZVQ_x"
      },
      "source": [
        "## Arguments at Three Levels\n",
        "\n",
        "- Scalar: \"Is this score over 90?\"\n"
      ]
    },
    {
      "cell_type": "code",
      "execution_count": null,
      "metadata": {
        "editable": true,
        "output-location": "default",
        "tags": [],
        "id": "cqW9AKf0VQ_x"
      },
      "outputs": [],
      "source": [
        "def greater_than_90(x):\n",
        "\treturn x > 90"
      ]
    },
    {
      "cell_type": "markdown",
      "metadata": {
        "editable": true,
        "tags": [],
        "id": "kKtq8ju-VQ_x"
      },
      "source": [
        "- Series: \"What is the maximum score on one exam?\"\n"
      ]
    },
    {
      "cell_type": "code",
      "execution_count": null,
      "metadata": {
        "editable": true,
        "output-location": "default",
        "tags": [],
        "id": "yFNfBHLGVQ_x"
      },
      "outputs": [],
      "source": [
        "def maximum(scores):\n",
        "\treturn max(scores)"
      ]
    },
    {
      "cell_type": "markdown",
      "metadata": {
        "editable": true,
        "tags": [],
        "id": "2lh5yNcgVQ_x"
      },
      "source": [
        "- Dataframe: \"How many individual scores?\"\n"
      ]
    },
    {
      "cell_type": "code",
      "execution_count": null,
      "metadata": {
        "editable": true,
        "output-location": "default",
        "tags": [],
        "id": "ZmA4-BEtVQ_y"
      },
      "outputs": [],
      "source": [
        "def how_many_elements(df):\n",
        "\trows, cols = df.shape\n",
        "\treturn rows*cols"
      ]
    },
    {
      "cell_type": "markdown",
      "metadata": {
        "editable": true,
        "tags": [],
        "id": "h8dUu_csVQ_y"
      },
      "source": [
        "## Convenience Functions\n",
        "\n",
        "- `Series` and `DataFrame` objects have many common operations built-in:\n",
        "  - $\\ne$ (`.ne()`), $\\gt$ (`.gt()`), ...\n",
        "  - mean (`.mean()`), median (`.median()`), standard deviation (`.std()`), ...\n",
        "- These tend to be optimized.\n",
        "- See [documentation](https://pandas.pydata.org/docs/user_guide/basics.html#descriptive-statistics) for list."
      ]
    },
    {
      "cell_type": "markdown",
      "metadata": {
        "editable": true,
        "tags": [],
        "id": "-I-g8yyZVQ_y"
      },
      "source": [
        "## \"What was the average `math` score?\""
      ]
    },
    {
      "cell_type": "code",
      "execution_count": null,
      "metadata": {
        "editable": true,
        "tags": [],
        "id": "zjUUdkdeVQ_y"
      },
      "outputs": [],
      "source": [
        "df.loc[:, 'math'].mean()"
      ]
    },
    {
      "cell_type": "markdown",
      "metadata": {
        "editable": true,
        "tags": [],
        "id": "0jTdar9eVQ_y"
      },
      "source": [
        "## `apply` and `applymap`\n",
        "\n",
        "- Custom functions can be applied to `Series` and `DataFrame`s using their `.apply` method.\n",
        "- `pd.Series.apply`: functions with _scalar arguments_\n",
        "- `pd.DataFrame.apply`: functions with `pd.Series` as an argument\n",
        "\t- Specify `axis`: 0 is row-wise, 1 is column-wise\n",
        "- `pd.DataFrame.applymap`: functions with _scalar arguments_"
      ]
    },
    {
      "cell_type": "markdown",
      "metadata": {
        "editable": true,
        "tags": [],
        "id": "qk2MFvDhVQ_y"
      },
      "source": [
        "## \"What was the lowest score for each exam and student??\"\n",
        "\n",
        "- Lowest per exam (`axis=0`)"
      ]
    },
    {
      "cell_type": "code",
      "execution_count": null,
      "metadata": {
        "editable": true,
        "output-location": "column-fragment",
        "tags": [],
        "id": "LVdtsCPUVQ_y"
      },
      "outputs": [],
      "source": [
        "df.min(axis=0)"
      ]
    },
    {
      "cell_type": "markdown",
      "metadata": {
        "editable": true,
        "tags": [],
        "id": "Ug34dACVVQ_y"
      },
      "source": [
        "- Lowest per student (`axis=1`, using built-in `min`):\n"
      ]
    },
    {
      "cell_type": "code",
      "execution_count": null,
      "metadata": {
        "editable": true,
        "output-location": "column-fragment",
        "tags": [],
        "id": "CB2A6xyUVQ_y"
      },
      "outputs": [],
      "source": [
        "df.apply(min, axis=1)"
      ]
    },
    {
      "cell_type": "markdown",
      "metadata": {
        "editable": true,
        "tags": [],
        "id": "Ufv-aX23VQ_z"
      },
      "source": [
        "## Convert Scores to A-F Ranking"
      ]
    },
    {
      "cell_type": "code",
      "execution_count": null,
      "metadata": {
        "editable": true,
        "output-location": "default",
        "tags": [],
        "id": "pDZroqk_VQ_z"
      },
      "outputs": [],
      "source": [
        "def convert_score(x):\n",
        "\tscore = ''\n",
        "\tif x >= 90:\n",
        "\t\tscore = 'A'\n",
        "\telif x >= 80:\n",
        "\t\tscore = 'B'\n",
        "\telif x >= 70:\n",
        "\t\tscore = 'C'\n",
        "\telif x >= 60:\n",
        "\t\tscore = 'D'\n",
        "\telse:\n",
        "\t\tscore = 'F'\n",
        "\treturn score"
      ]
    },
    {
      "cell_type": "markdown",
      "metadata": {
        "editable": true,
        "tags": [],
        "id": "GJLVIDiQVQ_z"
      },
      "source": [
        "## Convert Scores to A-F Ranking"
      ]
    },
    {
      "cell_type": "code",
      "execution_count": null,
      "metadata": {
        "editable": true,
        "tags": [],
        "id": "NaSTdjTNVQ_z"
      },
      "outputs": [],
      "source": [
        "df.applymap(convert_score)"
      ]
    },
    {
      "cell_type": "markdown",
      "metadata": {
        "editable": true,
        "tags": [],
        "id": "aOrlMQ9uVQ_z"
      },
      "source": [
        "# Combining Data\n",
        "\n",
        "- How do we combine data from multiple sources?"
      ]
    },
    {
      "cell_type": "markdown",
      "metadata": {
        "editable": true,
        "tags": [],
        "id": "_JRZOBpTVQ_z"
      },
      "source": [
        "## Two Ways\n",
        "\n",
        "- Concatenating: sticking it together\n",
        "- Joining: merging on common \"key\""
      ]
    },
    {
      "cell_type": "markdown",
      "metadata": {
        "editable": true,
        "tags": [],
        "id": "02lKYbyYVQ_z"
      },
      "source": [
        "## We forgot two students!"
      ]
    },
    {
      "cell_type": "code",
      "execution_count": null,
      "metadata": {
        "editable": true,
        "tags": [],
        "id": "31B87H6gVQ_z"
      },
      "outputs": [],
      "source": [
        "df_extra = pd.read_csv(data_url+'data/scores_extra.csv',\n",
        "\t\t\t\t\t   index_col='student_id')\n",
        "df_extra"
      ]
    },
    {
      "cell_type": "markdown",
      "metadata": {
        "editable": true,
        "tags": [],
        "id": "t8h5HQg9VQ_z"
      },
      "source": [
        "## Concatenation"
      ]
    },
    {
      "cell_type": "code",
      "execution_count": null,
      "metadata": {
        "editable": true,
        "tags": [],
        "id": "OYQ6URuHVQ_z"
      },
      "outputs": [],
      "source": [
        "pd.concat([df, df_extra], axis=0)"
      ]
    },
    {
      "cell_type": "markdown",
      "metadata": {
        "editable": true,
        "tags": [],
        "id": "l2p60QiPVQ_z"
      },
      "source": [
        "## Different Columns\n",
        "\n",
        "- `.reset_index()` moves the index into a column:\n"
      ]
    },
    {
      "cell_type": "code",
      "execution_count": null,
      "metadata": {
        "editable": true,
        "tags": [],
        "id": "W4txHsCBVQ_0"
      },
      "outputs": [],
      "source": [
        "df_extra.reset_index()"
      ]
    },
    {
      "cell_type": "markdown",
      "metadata": {
        "editable": true,
        "tags": [],
        "id": "T28MC5ilVQ_0"
      },
      "source": [
        "## Different Columns\n",
        "\n",
        "- Concatenating with different columns creates NA values:\n"
      ]
    },
    {
      "cell_type": "code",
      "execution_count": null,
      "metadata": {
        "editable": true,
        "tags": [],
        "id": "qWsnERFbVQ_0"
      },
      "outputs": [],
      "source": [
        "pd.concat([df_extra, df_extra.reset_index()])"
      ]
    },
    {
      "cell_type": "markdown",
      "metadata": {
        "editable": true,
        "tags": [],
        "id": "N0CleTmpVQ_0"
      },
      "source": [
        "## Contact Details\n",
        "\n",
        "- We want to match scores to students' first names\n"
      ]
    },
    {
      "cell_type": "code",
      "execution_count": null,
      "metadata": {
        "editable": true,
        "tags": [],
        "id": "Au-KnwJLVQ_0"
      },
      "outputs": [],
      "source": [
        "pd.read_csv(data_url+'data/contacts.csv')"
      ]
    },
    {
      "cell_type": "markdown",
      "metadata": {
        "editable": true,
        "tags": [],
        "id": "bXrNCpMaVQ_0"
      },
      "source": [
        "## Preparing data for joining\n",
        "\n",
        "- The two dataframes have one column in common: the student ID.\n",
        "\t- In one it's `StudentID`, in the other `student_id`.\n",
        "- For visual simplicity, I move `student_id` back to the columns\n"
      ]
    },
    {
      "cell_type": "code",
      "execution_count": null,
      "metadata": {
        "editable": true,
        "tags": [],
        "id": "OFwxFneRVQ_0"
      },
      "outputs": [],
      "source": [
        "df_contact = pd.read_csv(data_url+'data/contacts.csv')\n",
        "df_scores = df.reset_index()"
      ]
    },
    {
      "cell_type": "markdown",
      "metadata": {
        "editable": true,
        "tags": [],
        "id": "AH5YaXX6VQ_0"
      },
      "source": [
        "## Key\n",
        "\n",
        "- Note that the two dataframes do not have the exact same values of student ID!\n"
      ]
    },
    {
      "cell_type": "code",
      "execution_count": null,
      "metadata": {
        "editable": true,
        "output-location": "column",
        "tags": [],
        "id": "__KE8jPWVQ_0"
      },
      "outputs": [],
      "source": [
        "df_contact['StudentID']"
      ]
    },
    {
      "cell_type": "code",
      "execution_count": null,
      "metadata": {
        "editable": true,
        "output-location": "column",
        "tags": [],
        "id": "25wpUJvMVQ_0"
      },
      "outputs": [],
      "source": [
        "df_scores['student_id']"
      ]
    },
    {
      "cell_type": "markdown",
      "metadata": {
        "editable": true,
        "tags": [],
        "id": "fTIOLiOWVQ_0"
      },
      "source": [
        "## Merge Syntax"
      ]
    },
    {
      "cell_type": "code",
      "execution_count": null,
      "metadata": {
        "editable": true,
        "tags": [],
        "id": "cm5yhs9DVQ_0"
      },
      "outputs": [],
      "source": [
        "pd.merge(\n",
        "\thow=<inner/left/right/outer>\n",
        "\tleft=df_contact[['FirstName', 'StudentID']],\n",
        "\tright=df_scores[['student_id', 'history']],\n",
        "\tleft_on='StudentID',\n",
        "\tright_on='student_id')"
      ]
    },
    {
      "cell_type": "markdown",
      "metadata": {
        "editable": true,
        "tags": [],
        "id": "RAQcNgUnVQ_1"
      },
      "source": [
        "- We specify the two dataframes as `left` and `right`\n",
        "- We specify the common key for each dataframe\n",
        "\t- Note if they were the same, we could use the argument `on`\n",
        "- `how` is easiest to explain visually"
      ]
    },
    {
      "cell_type": "markdown",
      "metadata": {
        "editable": true,
        "tags": [],
        "id": "0T82WPYxVQ_1"
      },
      "source": [
        "## `how='inner'`"
      ]
    },
    {
      "cell_type": "code",
      "execution_count": null,
      "metadata": {
        "editable": true,
        "tags": [],
        "id": "cY4SkGl0VQ_1"
      },
      "outputs": [],
      "source": [
        "pd.merge(\n",
        "\thow='inner',\n",
        "\tleft=df_contact[['FirstName', 'StudentID']],\n",
        "\tright=df_scores[['student_id', 'history']],\n",
        "\tleft_on='StudentID',\n",
        "\tright_on='student_id')"
      ]
    },
    {
      "cell_type": "markdown",
      "metadata": {
        "editable": true,
        "tags": [],
        "id": "eHQr3BC4VQ_1"
      },
      "source": [
        "## `how='left'`"
      ]
    },
    {
      "cell_type": "code",
      "execution_count": null,
      "metadata": {
        "editable": true,
        "tags": [],
        "id": "2pk7HK4rVQ_1"
      },
      "outputs": [],
      "source": [
        "pd.merge(\n",
        "\thow='left',\n",
        "\tleft=df_contact[['FirstName', 'StudentID']],\n",
        "\tright=df_scores[['student_id', 'history']],\n",
        "\tleft_on='StudentID',\n",
        "\tright_on='student_id')"
      ]
    },
    {
      "cell_type": "markdown",
      "metadata": {
        "editable": true,
        "tags": [],
        "id": "yWmxk3ZkVQ_1"
      },
      "source": [
        "## `how='right'`"
      ]
    },
    {
      "cell_type": "code",
      "execution_count": null,
      "metadata": {
        "editable": true,
        "tags": [],
        "id": "TnLQt3fwVQ_1"
      },
      "outputs": [],
      "source": [
        "pd.merge(\n",
        "\thow='right',\n",
        "\tleft=df_contact[['FirstName', 'StudentID']],\n",
        "\tright=df_scores[['student_id', 'history']],\n",
        "\tleft_on='StudentID',\n",
        "\tright_on='student_id')"
      ]
    },
    {
      "cell_type": "markdown",
      "metadata": {
        "editable": true,
        "tags": [],
        "id": "dRUXATfdVQ_1"
      },
      "source": [
        "## `how='outer'`"
      ]
    },
    {
      "cell_type": "code",
      "execution_count": null,
      "metadata": {
        "editable": true,
        "tags": [],
        "id": "CFFsK-xyVQ_1"
      },
      "outputs": [],
      "source": [
        "pd.merge(\n",
        "\thow='outer',\n",
        "\tleft=df_contact[['FirstName', 'StudentID']],\n",
        "\tright=df_scores[['student_id', 'history']],\n",
        "\tleft_on='StudentID',\n",
        "\tright_on='student_id')"
      ]
    },
    {
      "cell_type": "markdown",
      "metadata": {
        "editable": true,
        "tags": [],
        "id": "ZjZDAYxnVQ_2"
      },
      "source": [
        "# Exploratory Analysis"
      ]
    },
    {
      "cell_type": "markdown",
      "metadata": {
        "editable": true,
        "tags": [],
        "id": "e2-1tdMbVQ_2"
      },
      "source": [
        "## British Election Study Data"
      ]
    },
    {
      "cell_type": "code",
      "execution_count": null,
      "metadata": {
        "editable": true,
        "tags": [],
        "id": "L94cErzCVQ_2"
      },
      "outputs": [],
      "source": [
        "bes_df = pd.read_csv(data_url+'data/bes_data.csv')"
      ]
    },
    {
      "cell_type": "markdown",
      "metadata": {
        "editable": true,
        "tags": [],
        "id": "DEv6Y4j3VQ_2"
      },
      "source": [
        "## First-Look Functions\n",
        "\n",
        "- When working with data, your first step should always be _getting to know the data_\n",
        "\t- Manually inspect samples of the data.\n",
        "\t- Check dimensions: are they expected?\n",
        "\t- Check data types: are they expected?\n",
        "\t- Tabulate variables: what are the levels?"
      ]
    },
    {
      "cell_type": "markdown",
      "metadata": {
        "editable": true,
        "tags": [],
        "id": "UxZGYQZ_VQ_2"
      },
      "source": [
        "## Inspect first 5 rows"
      ]
    },
    {
      "cell_type": "code",
      "execution_count": null,
      "metadata": {
        "editable": true,
        "tags": [],
        "id": "oMx_YbJmVQ_2"
      },
      "outputs": [],
      "source": [
        "bes_df.head()"
      ]
    },
    {
      "cell_type": "markdown",
      "metadata": {
        "editable": true,
        "tags": [],
        "id": "VyZB9nMRVQ_2"
      },
      "source": [
        "## What are the dimensions of the dataset?\n",
        "\n"
      ]
    },
    {
      "cell_type": "code",
      "execution_count": null,
      "metadata": {
        "editable": true,
        "tags": [],
        "id": "5lYxhsRyVQ_2"
      },
      "outputs": [],
      "source": [
        "bes_df.shape"
      ]
    },
    {
      "cell_type": "markdown",
      "metadata": {
        "editable": true,
        "tags": [],
        "id": "oe5Q-N2rVQ_2"
      },
      "source": [
        "## What data types are each of the columns?\n",
        "\n"
      ]
    },
    {
      "cell_type": "code",
      "execution_count": null,
      "metadata": {
        "editable": true,
        "tags": [],
        "id": "aormRCtWVQ_2"
      },
      "outputs": [],
      "source": [
        "bes_df.info()"
      ]
    },
    {
      "cell_type": "markdown",
      "metadata": {
        "editable": true,
        "tags": [],
        "id": "5p0mlSGnVQ_3"
      },
      "source": [
        "## What unique values do each column contain?\n",
        "\n",
        "- `pd.Series.value_counts()` for tabulation\n",
        "\n"
      ]
    },
    {
      "cell_type": "code",
      "execution_count": null,
      "metadata": {
        "editable": true,
        "output-location": "column-fragment",
        "tags": [],
        "id": "XeMEUy6jVQ_3"
      },
      "outputs": [],
      "source": [
        "bes_df['female'].value_counts()"
      ]
    },
    {
      "cell_type": "code",
      "execution_count": null,
      "metadata": {
        "editable": true,
        "output-location": "column-fragment",
        "tags": [],
        "id": "A2s0DSuTVQ_3"
      },
      "outputs": [],
      "source": [
        "bes_df['region'].value_counts()"
      ]
    },
    {
      "cell_type": "markdown",
      "metadata": {
        "editable": true,
        "tags": [],
        "id": "iDDYZ6yTVQ_3"
      },
      "source": [
        "# Recap"
      ]
    },
    {
      "cell_type": "markdown",
      "metadata": {
        "editable": true,
        "tags": [],
        "id": "d60cfvyzVQ_3"
      },
      "source": [
        "## `pandas`\n",
        "\n",
        "- File I/O (reading/writing data formats)\n",
        "- Indexing, slicing, filtering\n",
        "- Operations on data\n",
        "- Combining/merging data\n",
        "- Exploratory look"
      ]
    },
    {
      "cell_type": "markdown",
      "metadata": {
        "editable": true,
        "tags": [],
        "id": "x_BFAFexVQ_3"
      },
      "source": [
        "# Additional Resources"
      ]
    },
    {
      "cell_type": "markdown",
      "metadata": {
        "editable": true,
        "tags": [],
        "id": "vDSkCdFLVQ_3"
      },
      "source": [
        "## Textbook\n",
        "\n",
        "The following sections of _Python for Data Analysis: Data Wrangling with Pandas, NumPy and IPython, 2nd edition_ are relevant to this lecture:\n",
        "\n",
        "- 5.*: Getting Started with pandas\n",
        "- 6.*: Data Loading, Storage and File Formats\n",
        "- 7.1-2: Data Cleaning and Preparation\n",
        "- 7.3: String Manipulation\n",
        "- 12.1: Categorical Data"
      ]
    },
    {
      "cell_type": "markdown",
      "metadata": {
        "editable": true,
        "tags": [],
        "id": "zUha-aEsVQ_3"
      },
      "source": [
        "## Blogs, Docs\n",
        "\n",
        "- [`pandas` guide to combining dataframes](https://pandas.pydata.org/docs/user_guide/merging.html)\n",
        "- Pandas Data: https://pbpython.com/pandas_dtypes.html"
      ]
    }
  ],
  "metadata": {
    "kernelspec": {
      "display_name": "Python 3 (ipykernel)",
      "language": "python",
      "name": "python3"
    },
    "language_info": {
      "codemirror_mode": {
        "name": "ipython",
        "version": 3
      },
      "file_extension": ".py",
      "mimetype": "text/x-python",
      "name": "python",
      "nbconvert_exporter": "python",
      "pygments_lexer": "ipython3",
      "version": "3.11.4"
    },
    "colab": {
      "provenance": []
    }
  },
  "nbformat": 4,
  "nbformat_minor": 0
}