{
  "cells": [
    {
      "cell_type": "markdown",
      "metadata": {
        "id": "KO5RYrZhVOWt"
      },
      "source": [
        "# Crash Course"
      ]
    },
    {
      "cell_type": "markdown",
      "metadata": {
        "id": "oAQjGyxhVOWw"
      },
      "source": [
        "## \"Base\"\n",
        "\n",
        "- Like many languages, Python is enhanced by a great number of \"libraries\".\n",
        "- Libraries extend the functionality of a language, e.g. for data analysis."
      ]
    },
    {
      "cell_type": "markdown",
      "metadata": {
        "id": "CVOjmYfDVOWx"
      },
      "source": [
        "## How much base Python do I need to know?\n",
        "\n",
        "- Varies with application\n",
        "- This course covers minimum needed for data analysis workflow\n",
        "- Deep learning or app development requires more\n",
        "- Improving knowledge of core functionality helps you write elegant code."
      ]
    },
    {
      "cell_type": "markdown",
      "metadata": {
        "id": "iOs6Xvq2VOWx"
      },
      "source": [
        "## Course Outline\n",
        "\n",
        "1. Variables\n",
        "2. Data Types\n",
        "3. Data Structures\n",
        "4. Control Flow\n",
        "5. Functions"
      ]
    },
    {
      "cell_type": "markdown",
      "metadata": {
        "id": "AAke5RZmVOWy"
      },
      "source": [
        "# Values, Variables and Types"
      ]
    },
    {
      "cell_type": "markdown",
      "metadata": {
        "id": "nLXD46XoVOWy"
      },
      "source": [
        "## Workspace\n",
        "\n",
        "_A mental image if this is your first time programming_\n",
        "\n",
        "- When we start the Python \"session\", imagine we create an empty box.\n",
        "- We use commands, written into the cells of the notebook, to interact with this box.\n",
        "    - We can create objects that persist inside the box.\n",
        "    - We can modify objects inside the box.\n",
        "- We use the `print()` function to display these objects in the output."
      ]
    },
    {
      "cell_type": "markdown",
      "metadata": {
        "id": "AGSoV8ttVOWy"
      },
      "source": [
        "## First Command: \"Hello World!\"\n",
        "\n",
        "Run the following command:"
      ]
    },
    {
      "cell_type": "code",
      "execution_count": null,
      "metadata": {
        "output-location": "column-fragment",
        "id": "ej9B8I4XVOWy"
      },
      "outputs": [],
      "source": [
        "print(\"Hello World!\")"
      ]
    },
    {
      "cell_type": "markdown",
      "metadata": {
        "id": "JN_1ZXR5VOWz"
      },
      "source": [
        "## Variable Assignment\n",
        "\n",
        "- Variables are names that point to particular objects in the box.\n",
        "- These objects can be values, functions, etc.\n",
        "- We assign variables with the `=` operator."
      ]
    },
    {
      "cell_type": "code",
      "execution_count": null,
      "metadata": {
        "output-location": "column-fragment",
        "id": "xw0136bTVOW0"
      },
      "outputs": [],
      "source": [
        "x = 1\n",
        "y = 2\n",
        "print(x)\n",
        "print(y)"
      ]
    },
    {
      "cell_type": "markdown",
      "metadata": {
        "id": "w-TJPj81VOW0"
      },
      "source": [
        "## Aside: Variable Assignment Rules\n",
        "\n",
        "There are some rules for variable assignment:\n",
        "\n",
        "- Variable names cannot contain spaces\n"
      ]
    },
    {
      "cell_type": "code",
      "execution_count": null,
      "metadata": {
        "output-location": "default",
        "id": "8JU13rhaVOW0"
      },
      "outputs": [],
      "source": [
        "a variable = \"this will give an error\""
      ]
    },
    {
      "cell_type": "markdown",
      "metadata": {
        "id": "Q_epYk8NVOW0"
      },
      "source": [
        "- The first letter of the variable cannot be a number or symbol"
      ]
    },
    {
      "cell_type": "code",
      "execution_count": null,
      "metadata": {
        "output-location": "default",
        "id": "EkaQupjRVOW0"
      },
      "outputs": [],
      "source": [
        "1st_variable = \"this will also give an error\""
      ]
    },
    {
      "cell_type": "markdown",
      "metadata": {
        "id": "YyKYMpgTVOW1"
      },
      "source": [
        "Both of these return `SyntaxError` because the interpreter cannot understand these commands."
      ]
    },
    {
      "cell_type": "markdown",
      "metadata": {
        "id": "2XaUsTxeVOW1"
      },
      "source": [
        "# Data Types\n",
        "\n",
        "Here are four data types in base Python:\n",
        "\n",
        "- Integer `int`: whole numbers\n",
        "- Boolean `bool`: true/false values\n",
        "- Float `float`: rational numbers\n",
        "- String `str`: character sequences"
      ]
    },
    {
      "cell_type": "markdown",
      "metadata": {
        "id": "y_520RR-VOW1"
      },
      "source": [
        "## Integers\n",
        "\n",
        "Integers (`int`) are whole numbers, positive or negative.\n",
        "\n",
        "- Created by writing a number without a `.`"
      ]
    },
    {
      "cell_type": "code",
      "execution_count": null,
      "metadata": {
        "id": "Gp4IxtLcVOW1"
      },
      "outputs": [],
      "source": [
        "42\n",
        "0\n",
        "-15343"
      ]
    },
    {
      "cell_type": "markdown",
      "metadata": {
        "id": "SVOWwfeJVOW1"
      },
      "source": [
        "## Integer Operations\n",
        "\n",
        "- As seen, integers are assigned with the `=` operator."
      ]
    },
    {
      "cell_type": "code",
      "execution_count": null,
      "metadata": {
        "output-location": "default",
        "id": "B4XAJqdmVOW1"
      },
      "outputs": [],
      "source": [
        "a = 5\n",
        "b = 13"
      ]
    },
    {
      "cell_type": "markdown",
      "metadata": {
        "id": "Q4Rr6IPyVOW1"
      },
      "source": [
        "- Arithmetic operations are as expected: `+`, `-`, `*`, `/`"
      ]
    },
    {
      "cell_type": "code",
      "execution_count": null,
      "metadata": {
        "output-location": "column-fragment",
        "id": "L_8XWru7VOW1"
      },
      "outputs": [],
      "source": [
        "print(a + b)\n",
        "print(a - b)\n",
        "print(a * b)"
      ]
    },
    {
      "cell_type": "markdown",
      "metadata": {
        "id": "K4kd1bSiVOW2"
      },
      "source": [
        "- `==` tests equivalence."
      ]
    },
    {
      "cell_type": "code",
      "execution_count": null,
      "metadata": {
        "output-location": "column-fragment",
        "id": "Q3GXBa1GVOW2"
      },
      "outputs": [],
      "source": [
        "print(a == b)"
      ]
    },
    {
      "cell_type": "markdown",
      "metadata": {
        "id": "fHJk5GG5VOW2"
      },
      "source": [
        "## Booleans\n",
        "\n",
        "- Booleans are True/False values.\n",
        "  - You saw them on the previous slide!\n",
        "- There are two Booleans: `True` and `False`."
      ]
    },
    {
      "cell_type": "markdown",
      "metadata": {
        "id": "qWBFlAmfVOW2"
      },
      "source": [
        "## Boolean Operators\n",
        "\n",
        "- `and`: logical _conjunction_"
      ]
    },
    {
      "cell_type": "code",
      "execution_count": null,
      "metadata": {
        "output-location": "column-fragment",
        "id": "oxXmmDugVOW2"
      },
      "outputs": [],
      "source": [
        "print(True and True)\n",
        "print(True and False)\n",
        "print(False and True)\n",
        "print(False and False)"
      ]
    },
    {
      "cell_type": "markdown",
      "metadata": {
        "id": "Ojb_4ws0VOW2"
      },
      "source": [
        "- `or`: logical _disjunction_\n"
      ]
    },
    {
      "cell_type": "code",
      "execution_count": null,
      "metadata": {
        "output-location": "column-fragment",
        "id": "eagcS3JHVOW2"
      },
      "outputs": [],
      "source": [
        "print(True or True)\n",
        "print(True or False)\n",
        "print(False or True)\n",
        "print(False or False)"
      ]
    },
    {
      "cell_type": "markdown",
      "metadata": {
        "id": "2Gqvaxf5VOW2"
      },
      "source": [
        "## Aside: Bools and 0, 1\n",
        "\n",
        "Booleans behave like the integers 0 and 1.\n"
      ]
    },
    {
      "cell_type": "code",
      "execution_count": null,
      "metadata": {
        "output-location": "column",
        "id": "UiSAKNr4VOW2"
      },
      "outputs": [],
      "source": [
        "True + True"
      ]
    },
    {
      "cell_type": "code",
      "execution_count": null,
      "metadata": {
        "output-location": "column",
        "id": "x35AOU5zVOW3"
      },
      "outputs": [],
      "source": [
        "True * False"
      ]
    },
    {
      "cell_type": "code",
      "execution_count": null,
      "metadata": {
        "output-location": "column-fragment",
        "id": "GOL2zcJuVOW3"
      },
      "outputs": [],
      "source": [
        "# What do you think will happen?\n",
        "False / False"
      ]
    },
    {
      "cell_type": "markdown",
      "metadata": {
        "id": "YdViV8InVOW3"
      },
      "source": [
        "## Floats\n",
        "\n",
        "- Floats are, technically, the representation of real numbers ($\\mathbb{R}$) in base 2.\n",
        "- For our purposes, all non-whole numbers are represented by floats.\n",
        "- Floats can be constructed using the `.` in a number:\n",
        "\n"
      ]
    },
    {
      "cell_type": "code",
      "execution_count": null,
      "metadata": {
        "id": "MFNdp20kVOW3"
      },
      "outputs": [],
      "source": [
        "x = 1.0\n",
        "y = 3.4"
      ]
    },
    {
      "cell_type": "markdown",
      "metadata": {
        "id": "7c9RkUeQVOW3"
      },
      "source": [
        "## Integer Division\n",
        "\n",
        "Python also automatically converts the output of integer division to a float:\n",
        "\n"
      ]
    },
    {
      "cell_type": "code",
      "execution_count": null,
      "metadata": {
        "output-location": "column-fragment",
        "id": "cLeB75kOVOW3"
      },
      "outputs": [],
      "source": [
        "print(1 / 3)\n",
        "print(3)\n",
        "print(3 / 1)"
      ]
    },
    {
      "cell_type": "markdown",
      "metadata": {
        "id": "fNL5QU3OVOW3"
      },
      "source": [
        "## Warning!!\n",
        "\n",
        "Floats can behave unpredictably.\n",
        "\n",
        "Note the following examples:\n"
      ]
    },
    {
      "cell_type": "code",
      "execution_count": null,
      "metadata": {
        "output-location": "column-fragment",
        "id": "XuajN5s4VOW3"
      },
      "outputs": [],
      "source": [
        "10 * 0.1 * 3 == 3"
      ]
    },
    {
      "cell_type": "code",
      "execution_count": null,
      "metadata": {
        "output-location": "column-fragment",
        "id": "iEKvijh6VOW_"
      },
      "outputs": [],
      "source": [
        "0.1 * 3 * 10 == 3"
      ]
    },
    {
      "cell_type": "code",
      "execution_count": null,
      "metadata": {
        "output-location": "column-fragment",
        "id": "rNhqRInpVOW_"
      },
      "outputs": [],
      "source": [
        "0.1 * 3 == 0.3"
      ]
    },
    {
      "cell_type": "code",
      "execution_count": null,
      "metadata": {
        "output-location": "column-fragment",
        "id": "cHXp0wNuVOXA"
      },
      "outputs": [],
      "source": [
        "0.1 * 3"
      ]
    },
    {
      "cell_type": "markdown",
      "metadata": {
        "id": "LZL62eRmVOXA"
      },
      "source": [
        "See: [0.30000000000000004.com](https://0.30000000000000004.com/)"
      ]
    },
    {
      "cell_type": "markdown",
      "metadata": {
        "id": "Xs1d1iU_VOXA"
      },
      "source": [
        "## Strings\n",
        "\n",
        "Strings (`str`) are a _sequence of characters_."
      ]
    },
    {
      "cell_type": "markdown",
      "metadata": {
        "id": "S0sr--oLVOXA"
      },
      "source": [
        "## Creation\n",
        "\n",
        "- Strings are created by writing a sequence of letters between _single **or** double_ quotes."
      ]
    },
    {
      "cell_type": "code",
      "execution_count": null,
      "metadata": {
        "id": "UkaJ2PHbVOXA"
      },
      "outputs": [],
      "source": [
        "first_word = \"Hello\"\n",
        "second_word = 'World'\n",
        "first_punct = \"!\""
      ]
    },
    {
      "cell_type": "markdown",
      "metadata": {
        "id": "9xHG6Q6EVOXA"
      },
      "source": [
        "## Equivalence\n",
        "\n",
        "- We can test equivalence using the `==` operator.\n",
        "\n"
      ]
    },
    {
      "cell_type": "code",
      "execution_count": null,
      "metadata": {
        "output-location": "column-fragment",
        "id": "Cy5m08EvVOXA"
      },
      "outputs": [],
      "source": [
        "print(first_word == first_word)\n",
        "print(first_word == second_word)"
      ]
    },
    {
      "cell_type": "markdown",
      "metadata": {
        "id": "duWKQ7SsVOXA"
      },
      "source": [
        "## Concatenation\n",
        "\n",
        "Combine _strings_ with the `+` operator:\n",
        "\n",
        ""
      ]
    },
    {
      "cell_type": "code",
      "execution_count": null,
      "metadata": {
        "id": "ekp_JyVWVOXA"
      },
      "outputs": [],
      "source": [
        "print(first_word + second_word + first_punct)"
      ]
    },
    {
      "cell_type": "markdown",
      "metadata": {
        "id": "uamJ5Kp4VOXB"
      },
      "source": [
        "You can use variables and values together:"
      ]
    },
    {
      "cell_type": "code",
      "execution_count": null,
      "metadata": {
        "editable": true,
        "tags": [],
        "id": "UvxENG84VOXB"
      },
      "outputs": [],
      "source": [
        "print(first_word + \" \" + second_word + first_punct)"
      ]
    },
    {
      "cell_type": "markdown",
      "metadata": {
        "editable": true,
        "tags": [],
        "id": "eXha7h9bVOXB"
      },
      "source": [
        "## Indexing\n",
        "\n",
        "- Strings are a _sequence_.\n",
        "- Strings can be indexed by using the `[]` operator.\n",
        "- _Note that python counts from zero!_\n",
        "\n"
      ]
    },
    {
      "cell_type": "code",
      "execution_count": null,
      "metadata": {
        "editable": true,
        "tags": [],
        "id": "Ho-p0TcMVOXB"
      },
      "outputs": [],
      "source": [
        "the_word = \"bird\"\n",
        "\n",
        "print(the_word + \" is the word\")\n",
        "print(the_word[0] + \" is the first letter of the word\")\n",
        "print(the_word[1] + \" is the second letter of the word\")"
      ]
    },
    {
      "cell_type": "markdown",
      "metadata": {
        "editable": true,
        "tags": [],
        "id": "NtrUeHSHVOXB"
      },
      "source": [
        "## Slices\n",
        "\n",
        "- Use the `:` to return a range of values.\n",
        "- The range `[m:n]` returns from the (m+1)th letter to the nth letter.\n"
      ]
    },
    {
      "cell_type": "code",
      "execution_count": null,
      "metadata": {
        "editable": true,
        "tags": [],
        "id": "HV0pVA_CVOXB"
      },
      "outputs": [],
      "source": [
        "print(the_word[0:2] + \" is the first two letters of the word\")\n",
        "print(the_word[1:3] + \" is the second and third letter of the word\")"
      ]
    },
    {
      "cell_type": "markdown",
      "metadata": {
        "editable": true,
        "tags": [],
        "id": "TYfSF_QtVOXB"
      },
      "source": [
        "## Slices"
      ]
    },
    {
      "cell_type": "code",
      "execution_count": null,
      "metadata": {
        "editable": true,
        "output-location": "column-fragment",
        "tags": [],
        "id": "38Qt_3YUVOXB"
      },
      "outputs": [],
      "source": [
        "# What does this return?\n",
        "the_word[0:3] + the_word[0]"
      ]
    },
    {
      "cell_type": "markdown",
      "metadata": {
        "editable": true,
        "tags": [],
        "id": "sKYgN5gOVOXB"
      },
      "source": [
        "## Negative Indexing\n",
        "\n",
        "- `[-1]` returns the last element of a sequence; in this case, the last character in a word.\n"
      ]
    },
    {
      "cell_type": "code",
      "execution_count": null,
      "metadata": {
        "editable": true,
        "output-location": "column-fragment",
        "tags": [],
        "id": "SHq8n_IjVOXC"
      },
      "outputs": [],
      "source": [
        "print(the_word[-1])"
      ]
    },
    {
      "cell_type": "markdown",
      "metadata": {
        "editable": true,
        "tags": [],
        "id": "8ge2MVkvVOXC"
      },
      "source": [
        "- We can use this to get the $n$ last values of a sequence:\n"
      ]
    },
    {
      "cell_type": "code",
      "execution_count": null,
      "metadata": {
        "editable": true,
        "output-location": "column-fragment",
        "tags": [],
        "id": "rUG5croYVOXC"
      },
      "outputs": [],
      "source": [
        "print(the_word[-3:])"
      ]
    },
    {
      "cell_type": "markdown",
      "metadata": {
        "editable": true,
        "tags": [],
        "id": "mDAAlFZzVOXC"
      },
      "source": [
        "## Checking and Coercing Types\n",
        "\n",
        "- `type()` returns the type of an object.\n",
        "\n"
      ]
    },
    {
      "cell_type": "code",
      "execution_count": null,
      "metadata": {
        "editable": true,
        "output-location": "column-fragment",
        "tags": [],
        "id": "eQ5MYZvHVOXC"
      },
      "outputs": [],
      "source": [
        "type(15)"
      ]
    },
    {
      "cell_type": "markdown",
      "metadata": {
        "editable": true,
        "tags": [],
        "id": "lV6sJrhsVOXC"
      },
      "source": [
        "- The type of an object can be coerced by calling the a different type on the object.\n"
      ]
    },
    {
      "cell_type": "code",
      "execution_count": null,
      "metadata": {
        "editable": true,
        "output-location": "column-fragment",
        "tags": [],
        "id": "0IR__dN3VOXC"
      },
      "outputs": [],
      "source": [
        "type(float(15))"
      ]
    },
    {
      "cell_type": "markdown",
      "metadata": {
        "editable": true,
        "tags": [],
        "id": "9XTqWW9yVOXC"
      },
      "source": [
        "## Checking and Coercing Types\n",
        "\n",
        "- Sometimes coercion is not possible:\n"
      ]
    },
    {
      "cell_type": "code",
      "execution_count": null,
      "metadata": {
        "editable": true,
        "output-location": "column-fragment",
        "tags": [],
        "id": "1SqZKsaXVOXC"
      },
      "outputs": [],
      "source": [
        "int('meow')"
      ]
    },
    {
      "cell_type": "markdown",
      "metadata": {
        "editable": true,
        "tags": [],
        "id": "C-qcKBG5VOXC"
      },
      "source": [
        "- And sometimes it is unpredictable"
      ]
    },
    {
      "cell_type": "code",
      "execution_count": null,
      "metadata": {
        "editable": true,
        "output-location": "column-fragment",
        "tags": [],
        "id": "dop_oupRVOXD"
      },
      "outputs": [],
      "source": [
        "print(bool('meow'))\n",
        "print(int(-0.99))\n",
        "print(str(False)==False)"
      ]
    },
    {
      "cell_type": "markdown",
      "metadata": {
        "editable": true,
        "tags": [],
        "id": "JyuPN8eKVOXD"
      },
      "source": [
        "# Data Structures\n",
        "\n",
        "- **Data types** concern the representation of individual data points, or observations.\n",
        "- **Data structures** concern the relations between observations.\n",
        "    - Are the data points members of the same set?\n",
        "    - Are the data points members of the same sequence?\n",
        "    - Are the data points different features of single empirical unit?"
      ]
    },
    {
      "cell_type": "markdown",
      "metadata": {
        "editable": true,
        "tags": [],
        "id": "KRJ_z7u0VOXD"
      },
      "source": [
        "## Two Python Data Structures\n",
        "\n",
        "- Lists (`list`): ordered array\n",
        "- Dictionaries (`dict`): key-value mapping"
      ]
    },
    {
      "cell_type": "markdown",
      "metadata": {
        "editable": true,
        "tags": [],
        "id": "_lFqgXFdVOXD"
      },
      "source": [
        "## Lists\n",
        "\n",
        "Lists are a type of data container in base Python. Lists are:\n",
        "\n",
        "- 1-dimensional\n",
        "- Ordered and indexed\n",
        "- Mutable\n",
        "- Able to contain any (type of) object\\n\\n\n",
        "\n",
        "To create a list, write a sequence of values separated by commas between square brackets:"
      ]
    },
    {
      "cell_type": "code",
      "execution_count": null,
      "metadata": {
        "editable": true,
        "tags": [],
        "id": "oA_5z1AZVOXD"
      },
      "outputs": [],
      "source": [
        "my_list = [1, 2, 3]  # only integers\n",
        "my_list = [1, 2.0, '3']  # integer, float and string"
      ]
    },
    {
      "cell_type": "markdown",
      "metadata": {
        "editable": true,
        "tags": [],
        "id": "B8vSQazMVOXD"
      },
      "source": [
        "## Indexing and Slicing Lists\n",
        "\n",
        "- Lists can be indexed in the same way as strings, using the `list[m:n]` notation.\n",
        "- `list[0]` returns the first value of the list\n"
      ]
    },
    {
      "cell_type": "code",
      "execution_count": null,
      "metadata": {
        "editable": true,
        "output-location": "column-fragment",
        "tags": [],
        "id": "AUaD5DOJVOXD"
      },
      "outputs": [],
      "source": [
        "my_list = [1, 2.0, '3']\n",
        "print(my_list[0])"
      ]
    },
    {
      "cell_type": "markdown",
      "metadata": {
        "editable": true,
        "tags": [],
        "id": "ShJRtEVgVOXD"
      },
      "source": [
        "- `list[1:3]` returns a list containing the second and third value of the list\n"
      ]
    },
    {
      "cell_type": "code",
      "execution_count": null,
      "metadata": {
        "editable": true,
        "output-location": "column-fragment",
        "tags": [],
        "id": "uOlk0Ow-VOXD"
      },
      "outputs": [],
      "source": [
        "print(my_list[1:3])"
      ]
    },
    {
      "cell_type": "markdown",
      "metadata": {
        "editable": true,
        "tags": [],
        "id": "jGrh60a1VOXE"
      },
      "source": [
        "## Growing Lists\n",
        "\n",
        "- Use `len()` to get the length of a `list`\n"
      ]
    },
    {
      "cell_type": "code",
      "execution_count": null,
      "metadata": {
        "editable": true,
        "output-location": "column-fragment",
        "tags": [],
        "id": "4HOlwsH2VOXE"
      },
      "outputs": [],
      "source": [
        "len(my_list)"
      ]
    },
    {
      "cell_type": "markdown",
      "metadata": {
        "editable": true,
        "tags": [],
        "id": "QH4aO36oVOXE"
      },
      "source": [
        "- Use `.append()` to add an element at the end\n"
      ]
    },
    {
      "cell_type": "code",
      "execution_count": null,
      "metadata": {
        "editable": true,
        "output-location": "column-fragment",
        "tags": [],
        "id": "7td-Jlk8VOXE"
      },
      "outputs": [],
      "source": [
        "my_list.append(4)\n",
        "print(my_list)"
      ]
    },
    {
      "cell_type": "markdown",
      "metadata": {
        "editable": true,
        "tags": [],
        "id": "7_k7LNzFVOXE"
      },
      "source": [
        "- Adding lists concatenates them:\n"
      ]
    },
    {
      "cell_type": "code",
      "execution_count": null,
      "metadata": {
        "editable": true,
        "output-location": "column-fragment",
        "tags": [],
        "id": "jVnGP26KVOXE"
      },
      "outputs": [],
      "source": [
        "my_list + ['fivesixseven8']"
      ]
    },
    {
      "cell_type": "markdown",
      "metadata": {
        "editable": true,
        "tags": [],
        "id": "GsHTDdQyVOXE"
      },
      "source": [
        "## Removing Items\n",
        "\n",
        "- Use `.pop()` to remove the final element\n",
        "  - NB: `.pop()` also returns the final element\n"
      ]
    },
    {
      "cell_type": "code",
      "execution_count": null,
      "metadata": {
        "editable": true,
        "output-location": "column-fragment",
        "tags": [],
        "id": "HRBCyD1fVOXE"
      },
      "outputs": [],
      "source": [
        "last_element = my_list.pop()\n",
        "print(last_element)\n",
        "print(my_list)"
      ]
    },
    {
      "cell_type": "markdown",
      "metadata": {
        "editable": true,
        "tags": [],
        "id": "6o8hcIMsVOXE"
      },
      "source": [
        "## Changing Values in Lists\\n\\n\n",
        "We can assign or reassign values using `=` and indexers:\n"
      ]
    },
    {
      "cell_type": "code",
      "execution_count": null,
      "metadata": {
        "editable": true,
        "output-location": "column-fragment",
        "tags": [],
        "id": "3nhXU-oxVOXF"
      },
      "outputs": [],
      "source": [
        "x = ['a', 't', 'e']\n",
        "print(x)"
      ]
    },
    {
      "cell_type": "code",
      "execution_count": null,
      "metadata": {
        "editable": true,
        "output-location": "column-fragment",
        "tags": [],
        "id": "I06B45bEVOXF"
      },
      "outputs": [],
      "source": [
        "x[0] = 'A'\n",
        "x[1] = 'T'\n",
        "print(x)"
      ]
    },
    {
      "cell_type": "markdown",
      "metadata": {
        "editable": true,
        "tags": [],
        "id": "J12U43UPVOXF"
      },
      "source": [
        "\n",
        "\n",
        "We can also replace slices:"
      ]
    },
    {
      "cell_type": "code",
      "execution_count": null,
      "metadata": {
        "editable": true,
        "output-location": "column-fragment",
        "tags": [],
        "id": "xUYA4iCcVOXF"
      },
      "outputs": [],
      "source": [
        "x[0:2] = ['a', 't']\n",
        "print(x)"
      ]
    },
    {
      "cell_type": "markdown",
      "metadata": {
        "editable": true,
        "tags": [],
        "id": "PZMLTNz1VOXF"
      },
      "source": [
        "## Dictionaries\n",
        "\n",
        "- Dictionaries are an unordered mapping of _keys_ to _values_.\n",
        "- Created by writing a list of `key:value` pairs separated by commas between `{}`.\n",
        "\n"
      ]
    },
    {
      "cell_type": "code",
      "execution_count": null,
      "metadata": {
        "editable": true,
        "tags": [],
        "id": "qtR5blnwVOXF"
      },
      "outputs": [],
      "source": [
        "favourite_icecream = {\n",
        "    \"Musashi\": \"chocolate\",\n",
        "    \"Maria\": \"dulce de leche\"\n",
        "}"
      ]
    },
    {
      "cell_type": "markdown",
      "metadata": {
        "editable": true,
        "tags": [],
        "id": "lose65IrVOXF"
      },
      "source": [
        "## Retrieving Values\n",
        "\n",
        "- Values are accessed with `dict_name[key]`\n",
        "\n",
        ""
      ]
    },
    {
      "cell_type": "code",
      "execution_count": null,
      "metadata": {
        "editable": true,
        "tags": [],
        "id": "OAy-d9Z_VOXG"
      },
      "outputs": [],
      "source": [
        "print(favourite_icecream['Musashi'])\n",
        "print(favourite_icecream['Maria'])"
      ]
    },
    {
      "cell_type": "markdown",
      "metadata": {
        "editable": true,
        "tags": [],
        "id": "8LhF0YHbVOXG"
      },
      "source": [
        "## Modifying Dictionaries\n",
        "\n",
        "- New key-value pairs can be added or modified with `=`\n",
        "\n"
      ]
    },
    {
      "cell_type": "code",
      "execution_count": null,
      "metadata": {
        "editable": true,
        "tags": [],
        "id": "c4P-UNPgVOXG"
      },
      "outputs": [],
      "source": [
        "favourite_icecream['Chris'] = 'pistachio'\n",
        "favourite_icecream['Musashi'] = 'green tea'\n",
        "\n",
        "print(favourite_icecream['Musashi'])\n",
        "print(favourite_icecream['Chris'])"
      ]
    },
    {
      "cell_type": "markdown",
      "metadata": {
        "editable": true,
        "tags": [],
        "id": "mhJTL5nOVOXG"
      },
      "source": [
        "## Accessing All Keys or Values\n",
        "\n",
        "To view all of the keys or values in a dictionary, you can use the following _methods_:\n",
        "\n"
      ]
    },
    {
      "cell_type": "code",
      "execution_count": null,
      "metadata": {
        "editable": true,
        "output-location": "column-fragment",
        "tags": [],
        "id": "PuO5op4pVOXG"
      },
      "outputs": [],
      "source": [
        "print(favourite_icecream.keys())"
      ]
    },
    {
      "cell_type": "code",
      "execution_count": null,
      "metadata": {
        "editable": true,
        "output-location": "column-fragment",
        "tags": [],
        "id": "DBwKtkwmVOXG"
      },
      "outputs": [],
      "source": [
        "print(favourite_icecream.values())"
      ]
    },
    {
      "cell_type": "code",
      "execution_count": null,
      "metadata": {
        "editable": true,
        "output-location": "column-fragment",
        "tags": [],
        "id": "JYMmtQ5XVOXG"
      },
      "outputs": [],
      "source": [
        "print(favourite_icecream.items())"
      ]
    },
    {
      "cell_type": "markdown",
      "metadata": {
        "editable": true,
        "tags": [],
        "id": "QHi2In8IVOXG"
      },
      "source": [
        "# Control Flow\n",
        "\n",
        "- Control flow structures specify whether and in what order to run blocks of our code.\n",
        "- We focus on two:\n",
        "    - Conditional execution\n",
        "    - Iteration (For loops)"
      ]
    },
    {
      "cell_type": "markdown",
      "metadata": {
        "editable": true,
        "tags": [],
        "id": "FSi7aLrAVOXG"
      },
      "source": [
        "## Conditional Execution\n",
        "\n",
        "- In Python, to execute code conditionally, we use the following syntax:"
      ]
    },
    {
      "cell_type": "code",
      "execution_count": null,
      "metadata": {
        "editable": true,
        "output-location": "default",
        "tags": [],
        "id": "UZh7IxoZVOXG"
      },
      "outputs": [],
      "source": [
        "if CONDITION:\n",
        "    RUN_COMMAND"
      ]
    },
    {
      "cell_type": "markdown",
      "metadata": {
        "editable": true,
        "tags": [],
        "id": "hJTF4ILiVOXH"
      },
      "source": [
        "- If `CONDITION` is `True`, then `RUN_COMMAND` is executed."
      ]
    },
    {
      "cell_type": "markdown",
      "metadata": {
        "editable": true,
        "tags": [],
        "id": "0wiuX6Q9VOXH"
      },
      "source": [
        "## Absolute Value\n",
        "\n",
        "- Suppose we want the absolute value of a number.\n",
        "- \"if number is negative, then multiply by -1\"\n",
        "- We can write it as follows:"
      ]
    },
    {
      "cell_type": "code",
      "execution_count": null,
      "metadata": {
        "editable": true,
        "tags": [],
        "id": "hCOZwfEbVOXH"
      },
      "outputs": [],
      "source": [
        "number = -2\n",
        "\n",
        "if number < 0:\n",
        "    number = number * -1\n",
        "\n",
        "print(\"Absolute value is\", number)"
      ]
    },
    {
      "cell_type": "markdown",
      "metadata": {
        "editable": true,
        "tags": [],
        "id": "FOAYEfSFVOXH"
      },
      "source": [
        "## If/Else\n",
        "\n",
        "- We specify what happens if `CONDITION` evaluates `False` using the `else` command.\n"
      ]
    },
    {
      "cell_type": "code",
      "execution_count": null,
      "metadata": {
        "editable": true,
        "tags": [],
        "id": "P-LW2vDNVOXH"
      },
      "outputs": [],
      "source": [
        "language_to_learn = \"Python\"\n",
        "\n",
        "if language_to_learn == \"Python\":\n",
        "    print(\"You are in the right place!\")\n",
        "else:\n",
        "    print(\"You might be lost!\")"
      ]
    },
    {
      "cell_type": "markdown",
      "metadata": {
        "editable": true,
        "tags": [],
        "id": "o72hc0E4VOXH"
      },
      "source": [
        "## If/Elif/Else\n",
        "\n",
        "- `elif` evaluates if the previous `if` or `elif` is `False`\n",
        "- and executes if the statement evaluates `True`.\n"
      ]
    },
    {
      "cell_type": "code",
      "execution_count": null,
      "metadata": {
        "editable": true,
        "tags": [],
        "id": "AbzORXedVOXH"
      },
      "outputs": [],
      "source": [
        "language_to_learn = \"Julia\"\n",
        "\n",
        "if language_to_learn == \"Python\":\n",
        "    print(\"You are in the right place!\")\n",
        "elif language_to_learn == \"Julia\":\n",
        "    print(\"Hertie should offer Julia!\")\n",
        "elif language_to_learn == \"R\":\n",
        "    print(\"You should learn a better coding language!\")\n",
        "else:\n",
        "    print(\"You might be lost!\")"
      ]
    },
    {
      "cell_type": "markdown",
      "metadata": {
        "editable": true,
        "tags": [],
        "id": "dmqmyCgmVOXH"
      },
      "source": [
        "## For Loops\n",
        "\n",
        "- A for-loop is a logical structure composed of two parts: an iterable and an action.\n",
        "- In python, they are written as follows:\n"
      ]
    },
    {
      "cell_type": "code",
      "execution_count": null,
      "metadata": {
        "editable": true,
        "tags": [],
        "id": "YlI1wNcKVOXH"
      },
      "outputs": [],
      "source": [
        "for i in ITERABLE:\n",
        "    RUN_COMMAND"
      ]
    },
    {
      "cell_type": "markdown",
      "metadata": {
        "editable": true,
        "tags": [],
        "id": "RYobg9P_VOXH"
      },
      "source": [
        "## Simple Example"
      ]
    },
    {
      "cell_type": "code",
      "execution_count": null,
      "metadata": {
        "editable": true,
        "tags": [],
        "id": "jkO6ymveVOXH"
      },
      "outputs": [],
      "source": [
        "for number in [1, 2, 3, 4, 5, 6, 7]:\n",
        "    print(number, \"+\", number, \"=\", number+number)"
      ]
    },
    {
      "cell_type": "markdown",
      "metadata": {
        "editable": true,
        "tags": [],
        "id": "8veUHZj_VOXI"
      },
      "source": [
        "## Incrementing a Counter"
      ]
    },
    {
      "cell_type": "code",
      "execution_count": null,
      "metadata": {
        "editable": true,
        "tags": [],
        "id": "cKz5CmkvVOXI"
      },
      "outputs": [],
      "source": [
        "counter = 1\n",
        "for number in [1, 2, 3, 4, 5, 6, 7]:\n",
        "    print(number, \"*\", counter, \"=\", number*counter)\n",
        "    counter = counter*number"
      ]
    },
    {
      "cell_type": "markdown",
      "metadata": {
        "editable": true,
        "tags": [],
        "id": "6yylqAt-VOXI"
      },
      "source": [
        "# Functions"
      ]
    },
    {
      "cell_type": "markdown",
      "metadata": {
        "editable": true,
        "tags": [],
        "id": "F3Qv3KATVOXI"
      },
      "source": [
        "## Defining Functions\n",
        "\n",
        "Here's a simple function that adds 1 to the input:"
      ]
    },
    {
      "cell_type": "code",
      "execution_count": null,
      "metadata": {
        "editable": true,
        "tags": [],
        "id": "yA06vmJpVOXI"
      },
      "outputs": [],
      "source": [
        "def add_one(x):\n",
        "    y = x+1\n",
        "    return y"
      ]
    },
    {
      "cell_type": "markdown",
      "metadata": {
        "editable": true,
        "tags": [],
        "id": "gh7JwJxuVOXI"
      },
      "source": [
        "- The command `def` followed by a space tells Python that you are defining a function.\n",
        "- This function is given the name followed by `def`; in this case `add_one`.\n",
        "- The _arguments_ of the function are given after the function name, inside `()`.\n",
        "- The `:` says that the definition line is done. The following line must be indented by four spaces."
      ]
    },
    {
      "cell_type": "markdown",
      "metadata": {
        "editable": true,
        "tags": [],
        "id": "NW5SfheXVOXI"
      },
      "source": [
        "## Namespaces\n",
        "\n",
        "- Python has _namespaces_ for variables.\n",
        "- There are multiple levels of namespace, but the two relevant to you are _local_ and _global_.\n",
        "- Variables defined _within_ a function are created within the _local_ namespace of that function.\n",
        "    - This means that they are only accessible from within the function.\n",
        "- Variables defined _outside_ a function are created within the _global_ namespace.\n",
        "- If a function contains a reference to a variable, it will first check to see whether the variable exists in the _local_ namespace, and then the _global_ one."
      ]
    },
    {
      "cell_type": "markdown",
      "metadata": {
        "editable": true,
        "tags": [],
        "id": "c2N2JYEHVOXI"
      },
      "source": [
        "## Namespace Examples\n",
        "\n",
        "_Clearing the environment first_"
      ]
    },
    {
      "cell_type": "code",
      "execution_count": null,
      "metadata": {
        "editable": true,
        "tags": [],
        "id": "uUDktgc8VOXI"
      },
      "outputs": [],
      "source": [
        "%reset -f"
      ]
    },
    {
      "cell_type": "markdown",
      "metadata": {
        "editable": true,
        "tags": [],
        "id": "Ls5ordOkVOXI"
      },
      "source": [
        "## Local Variables not Accessibly Globally\n",
        "\n",
        "The following code will result in an error:\n"
      ]
    },
    {
      "cell_type": "code",
      "execution_count": null,
      "metadata": {
        "editable": true,
        "tags": [],
        "id": "aEwqJzrfVOXJ"
      },
      "outputs": [],
      "source": [
        "def f(x):\n",
        "    y = 5\n",
        "    return x + y\n",
        "\n",
        "print(y)"
      ]
    },
    {
      "cell_type": "markdown",
      "metadata": {
        "editable": true,
        "tags": [],
        "id": "P6H2P5aPVOXJ"
      },
      "source": [
        "## Local Accessed Before Global\n",
        "\n",
        "The following code will return the _local_ value of `y`, thus returning 10.\n"
      ]
    },
    {
      "cell_type": "code",
      "execution_count": null,
      "metadata": {
        "editable": true,
        "tags": [],
        "id": "IKvmC--GVOXJ"
      },
      "outputs": [],
      "source": [
        "y = 0\n",
        "\n",
        "def f(x):\n",
        "    y = 5\n",
        "    return x + y\n",
        "\n",
        "print(f(5))"
      ]
    },
    {
      "cell_type": "markdown",
      "metadata": {
        "editable": true,
        "tags": [],
        "id": "z0SukKjRVOXJ"
      },
      "source": [
        "## Functions Reading from Global Variables\n",
        "\n",
        "The following code uses `y`, which is defined globally. Therefore it returns 7."
      ]
    },
    {
      "cell_type": "code",
      "execution_count": null,
      "metadata": {
        "editable": true,
        "tags": [],
        "id": "5sXSV5IaVOXJ"
      },
      "outputs": [],
      "source": [
        "y = 2\n",
        "\n",
        "def f(x):\n",
        "    return x + y\n",
        "\n",
        "print(f(5))"
      ]
    },
    {
      "cell_type": "markdown",
      "metadata": {
        "editable": true,
        "tags": [],
        "id": "vLqFl-YoVOXJ"
      },
      "source": [
        "## `Lambda` Functions\n",
        "\n",
        "Python has _lambda functions_. These are essentially a way to define a function in-line. Below, the function `f` is equivalent to the line `lambda x: x+1`."
      ]
    },
    {
      "cell_type": "code",
      "execution_count": null,
      "metadata": {
        "editable": true,
        "tags": [],
        "id": "VGzigyA7VOXJ"
      },
      "outputs": [],
      "source": [
        "def f(x):\n",
        "    return x+1\n",
        "\n",
        "lambda x: x+1"
      ]
    },
    {
      "cell_type": "markdown",
      "metadata": {
        "editable": true,
        "tags": [],
        "id": "toMGwJsFVOXJ"
      },
      "source": [
        "# Recap"
      ]
    },
    {
      "cell_type": "markdown",
      "metadata": {
        "editable": true,
        "tags": [],
        "id": "qToqmTLiVOXJ"
      },
      "source": [
        "## We covered a lot!\n",
        "\n",
        "- 4 Data Types\n",
        "  - `int`: whole numbers\n",
        "  - `float`: rational numbers. Unexpected behavior.\n",
        "  - `bool`: True/False values\n",
        "  - `str`: Character sequence. Behaves like sequence.\n",
        "- 2 data structures\n",
        "  - Lists: ordered sequence of values\n",
        "  - Dictionaries: mapping of key to value\n",
        "- 2 control flow structures\n",
        "  - Conditional execution: `if`/`elif`/`else`\n",
        "  - Iteration: for-loops\n",
        "- How to write functions"
      ]
    },
    {
      "cell_type": "markdown",
      "metadata": {
        "editable": true,
        "tags": [],
        "id": "SKjwiJ3EVOXJ"
      },
      "source": [
        "## Question Time"
      ]
    },
    {
      "cell_type": "markdown",
      "metadata": {
        "editable": true,
        "tags": [],
        "id": "1Xb3nX6XVOXK"
      },
      "source": [
        "# Break"
      ]
    },
    {
      "cell_type": "code",
      "execution_count": null,
      "metadata": {
        "editable": true,
        "tags": [],
        "id": "04RftS0zVOXK"
      },
      "outputs": [],
      "source": []
    }
  ],
  "metadata": {
    "kernelspec": {
      "display_name": "Python 3 (ipykernel)",
      "language": "python",
      "name": "python3"
    },
    "language_info": {
      "codemirror_mode": {
        "name": "ipython",
        "version": 3
      },
      "file_extension": ".py",
      "mimetype": "text/x-python",
      "name": "python",
      "nbconvert_exporter": "python",
      "pygments_lexer": "ipython3",
      "version": "3.11.4"
    },
    "colab": {
      "provenance": []
    }
  },
  "nbformat": 4,
  "nbformat_minor": 0
}